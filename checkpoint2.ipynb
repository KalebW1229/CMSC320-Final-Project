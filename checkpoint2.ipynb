{
  "cells": [
    {
      "cell_type": "code",
      "execution_count": 1,
      "id": "e8d7d071",
      "metadata": {
        "id": "e8d7d071"
      },
      "outputs": [],
      "source": [
        "import pandas as pd\n",
        "import matplotlib.pyplot as plt\n",
        "from scipy.stats import linregress\n",
        "from scipy.stats import chi2_contingency\n",
        "from scipy.stats import f_oneway\n",
        "import seaborn as sns\n",
        "from statsmodels.stats.multicomp import pairwise_tukeyhsd"
      ]
    },
    {
      "cell_type": "code",
      "execution_count": 2,
      "id": "4bfde828",
      "metadata": {
        "id": "4bfde828"
      },
      "outputs": [],
      "source": [
        "# loading in the dataset\n",
        "df = pd.read_csv(\"cars.csv\")"
      ]
    },
    {
      "cell_type": "code",
      "execution_count": 3,
      "id": "05822639",
      "metadata": {
        "colab": {
          "base_uri": "https://localhost:8080/"
        },
        "id": "05822639",
        "outputId": "8269ae27-528b-45e7-8283-e26ef8ba651c"
      },
      "outputs": [
        {
          "name": "stdout",
          "output_type": "stream",
          "text": [
            "<class 'pandas.core.frame.DataFrame'>\n",
            "RangeIndex: 13058 entries, 0 to 13057\n",
            "Data columns (total 15 columns):\n",
            " #   Column                Non-Null Count  Dtype  \n",
            "---  ------                --------------  -----  \n",
            " 0   Model year            12758 non-null  float64\n",
            " 1   Make                  12758 non-null  object \n",
            " 2   Model                 12758 non-null  object \n",
            " 3   Vehicle class         12758 non-null  object \n",
            " 4   Engine size (L)       12758 non-null  float64\n",
            " 5   Cylinders             12758 non-null  float64\n",
            " 6   Transmission          12758 non-null  object \n",
            " 7   Fuel type             12758 non-null  object \n",
            " 8   City (L/100 km)       12758 non-null  float64\n",
            " 9   Highway (L/100 km)    12758 non-null  float64\n",
            " 10  Combined (L/100 km)   12758 non-null  float64\n",
            " 11  Combined (mpg)        12758 non-null  float64\n",
            " 12  CO2 emissions (g/km)  12758 non-null  float64\n",
            " 13  CO2 rating            11313 non-null  float64\n",
            " 14  Smog rating           9925 non-null   float64\n",
            "dtypes: float64(10), object(5)\n",
            "memory usage: 1.5+ MB\n"
          ]
        }
      ],
      "source": [
        "df.info()"
      ]
    },
    {
      "cell_type": "markdown",
      "id": "045c4e24",
      "metadata": {
        "id": "045c4e24"
      },
      "source": [
        "Dataset Information\n",
        "\n",
        "Number of Entries: 13085\n",
        "Number of Features: 15"
      ]
    },
    {
      "cell_type": "markdown",
      "id": "fa311839",
      "metadata": {
        "id": "fa311839"
      },
      "source": [
        "# **Data Preprocessing**"
      ]
    },
    {
      "cell_type": "code",
      "execution_count": 4,
      "id": "a-xVla8hxDzy",
      "metadata": {
        "colab": {
          "base_uri": "https://localhost:8080/",
          "height": 414
        },
        "id": "a-xVla8hxDzy",
        "outputId": "2280a938-2857-4580-d113-381eda70fbd9"
      },
      "outputs": [
        {
          "data": {
            "text/html": [
              "<div>\n",
              "<style scoped>\n",
              "    .dataframe tbody tr th:only-of-type {\n",
              "        vertical-align: middle;\n",
              "    }\n",
              "\n",
              "    .dataframe tbody tr th {\n",
              "        vertical-align: top;\n",
              "    }\n",
              "\n",
              "    .dataframe thead th {\n",
              "        text-align: right;\n",
              "    }\n",
              "</style>\n",
              "<table border=\"1\" class=\"dataframe\">\n",
              "  <thead>\n",
              "    <tr style=\"text-align: right;\">\n",
              "      <th></th>\n",
              "      <th>Model year</th>\n",
              "      <th>Make</th>\n",
              "      <th>Model</th>\n",
              "      <th>Vehicle class</th>\n",
              "      <th>Engine size (L)</th>\n",
              "      <th>Cylinders</th>\n",
              "      <th>Transmission</th>\n",
              "      <th>Fuel type</th>\n",
              "      <th>City (L/100 km)</th>\n",
              "      <th>Highway (L/100 km)</th>\n",
              "      <th>Combined (L/100 km)</th>\n",
              "      <th>Combined (mpg)</th>\n",
              "      <th>CO2 emissions (g/km)</th>\n",
              "      <th>CO2 rating</th>\n",
              "      <th>Smog rating</th>\n",
              "    </tr>\n",
              "  </thead>\n",
              "  <tbody>\n",
              "    <tr>\n",
              "      <th>0</th>\n",
              "      <td>2015.0</td>\n",
              "      <td>Acura</td>\n",
              "      <td>ILX</td>\n",
              "      <td>Compact</td>\n",
              "      <td>2.0</td>\n",
              "      <td>4.0</td>\n",
              "      <td>AS5</td>\n",
              "      <td>Z</td>\n",
              "      <td>9.7</td>\n",
              "      <td>6.7</td>\n",
              "      <td>8.3</td>\n",
              "      <td>34.0</td>\n",
              "      <td>191.0</td>\n",
              "      <td>NaN</td>\n",
              "      <td>NaN</td>\n",
              "    </tr>\n",
              "    <tr>\n",
              "      <th>1</th>\n",
              "      <td>2015.0</td>\n",
              "      <td>Acura</td>\n",
              "      <td>ILX</td>\n",
              "      <td>Compact</td>\n",
              "      <td>2.4</td>\n",
              "      <td>4.0</td>\n",
              "      <td>M6</td>\n",
              "      <td>Z</td>\n",
              "      <td>10.8</td>\n",
              "      <td>7.4</td>\n",
              "      <td>9.3</td>\n",
              "      <td>30.0</td>\n",
              "      <td>214.0</td>\n",
              "      <td>NaN</td>\n",
              "      <td>NaN</td>\n",
              "    </tr>\n",
              "    <tr>\n",
              "      <th>2</th>\n",
              "      <td>2015.0</td>\n",
              "      <td>Acura</td>\n",
              "      <td>ILX Hybrid</td>\n",
              "      <td>Compact</td>\n",
              "      <td>1.5</td>\n",
              "      <td>4.0</td>\n",
              "      <td>AV7</td>\n",
              "      <td>Z</td>\n",
              "      <td>6.0</td>\n",
              "      <td>6.1</td>\n",
              "      <td>6.1</td>\n",
              "      <td>46.0</td>\n",
              "      <td>140.0</td>\n",
              "      <td>NaN</td>\n",
              "      <td>NaN</td>\n",
              "    </tr>\n",
              "    <tr>\n",
              "      <th>3</th>\n",
              "      <td>2015.0</td>\n",
              "      <td>Acura</td>\n",
              "      <td>MDX SH-AWD</td>\n",
              "      <td>Sport utility vehicle: Small</td>\n",
              "      <td>3.5</td>\n",
              "      <td>6.0</td>\n",
              "      <td>AS6</td>\n",
              "      <td>Z</td>\n",
              "      <td>12.7</td>\n",
              "      <td>9.1</td>\n",
              "      <td>11.1</td>\n",
              "      <td>25.0</td>\n",
              "      <td>255.0</td>\n",
              "      <td>NaN</td>\n",
              "      <td>NaN</td>\n",
              "    </tr>\n",
              "    <tr>\n",
              "      <th>4</th>\n",
              "      <td>2015.0</td>\n",
              "      <td>Acura</td>\n",
              "      <td>RDX AWD</td>\n",
              "      <td>Sport utility vehicle: Small</td>\n",
              "      <td>3.5</td>\n",
              "      <td>6.0</td>\n",
              "      <td>AS6</td>\n",
              "      <td>Z</td>\n",
              "      <td>12.1</td>\n",
              "      <td>8.7</td>\n",
              "      <td>10.6</td>\n",
              "      <td>27.0</td>\n",
              "      <td>244.0</td>\n",
              "      <td>NaN</td>\n",
              "      <td>NaN</td>\n",
              "    </tr>\n",
              "  </tbody>\n",
              "</table>\n",
              "</div>"
            ],
            "text/plain": [
              "   Model year   Make       Model                 Vehicle class  \\\n",
              "0      2015.0  Acura         ILX                       Compact   \n",
              "1      2015.0  Acura         ILX                       Compact   \n",
              "2      2015.0  Acura  ILX Hybrid                       Compact   \n",
              "3      2015.0  Acura  MDX SH-AWD  Sport utility vehicle: Small   \n",
              "4      2015.0  Acura     RDX AWD  Sport utility vehicle: Small   \n",
              "\n",
              "   Engine size (L)  Cylinders Transmission Fuel type  City (L/100 km)  \\\n",
              "0              2.0        4.0          AS5         Z              9.7   \n",
              "1              2.4        4.0           M6         Z             10.8   \n",
              "2              1.5        4.0          AV7         Z              6.0   \n",
              "3              3.5        6.0          AS6         Z             12.7   \n",
              "4              3.5        6.0          AS6         Z             12.1   \n",
              "\n",
              "   Highway (L/100 km)  Combined (L/100 km)  Combined (mpg)  \\\n",
              "0                 6.7                  8.3            34.0   \n",
              "1                 7.4                  9.3            30.0   \n",
              "2                 6.1                  6.1            46.0   \n",
              "3                 9.1                 11.1            25.0   \n",
              "4                 8.7                 10.6            27.0   \n",
              "\n",
              "   CO2 emissions (g/km)  CO2 rating  Smog rating  \n",
              "0                 191.0         NaN          NaN  \n",
              "1                 214.0         NaN          NaN  \n",
              "2                 140.0         NaN          NaN  \n",
              "3                 255.0         NaN          NaN  \n",
              "4                 244.0         NaN          NaN  "
            ]
          },
          "execution_count": 4,
          "metadata": {},
          "output_type": "execute_result"
        }
      ],
      "source": [
        "df.head()"
      ]
    },
    {
      "cell_type": "code",
      "execution_count": 5,
      "id": "a931dd9f",
      "metadata": {
        "id": "a931dd9f"
      },
      "outputs": [],
      "source": [
        "# filtering out cars with any missing values\n",
        "df.dropna(inplace=True)"
      ]
    },
    {
      "cell_type": "code",
      "execution_count": 6,
      "id": "26d6f135",
      "metadata": {},
      "outputs": [
        {
          "name": "stdout",
          "output_type": "stream",
          "text": [
            "Number of Duplicated Rows:  1317\n"
          ]
        }
      ],
      "source": [
        "# Handling duplicated rows\n",
        "print(\"Number of Duplicated Rows: \", df.duplicated().sum())\n",
        "\n",
        "df.drop_duplicates(inplace=True)"
      ]
    },
    {
      "cell_type": "code",
      "execution_count": 7,
      "id": "b9fc3fd9",
      "metadata": {
        "id": "b9fc3fd9"
      },
      "outputs": [],
      "source": [
        "# converting appropriate fields to integer fields\n",
        "integer_fields = [\"Model year\", \"Cylinders\", \"CO2 emissions (g/km)\", \"Smog rating\"]\n",
        "for field in integer_fields:\n",
        "    df[field] = df[field].astype(int)"
      ]
    },
    {
      "cell_type": "code",
      "execution_count": 8,
      "id": "f4f61bcd",
      "metadata": {
        "id": "f4f61bcd"
      },
      "outputs": [],
      "source": [
        "# converting the oddly-labeled fuel type abbreviations to their brand name for clarity\n",
        "fuel_type_mapping = {\n",
        "    \"D\": \"Diesel\",\n",
        "    \"Z\": \"Premium\",\n",
        "    \"E\": \"Flex-Fuel\",\n",
        "    \"X\": \"Regular\"\n",
        "}\n",
        "\n",
        "df[\"Fuel type\"] = df[\"Fuel type\"].map(fuel_type_mapping)"
      ]
    },
    {
      "cell_type": "markdown",
      "id": "fcdb6dd6",
      "metadata": {
        "id": "fcdb6dd6"
      },
      "source": [
        "Removing entries with non-sensical attributes"
      ]
    },
    {
      "cell_type": "code",
      "execution_count": 9,
      "id": "84a38a6a",
      "metadata": {
        "colab": {
          "base_uri": "https://localhost:8080/",
          "height": 355
        },
        "id": "84a38a6a",
        "outputId": "eb0c105d-2f41-4ed7-8a82-44657552989f"
      },
      "outputs": [
        {
          "data": {
            "text/html": [
              "<div>\n",
              "<style scoped>\n",
              "    .dataframe tbody tr th:only-of-type {\n",
              "        vertical-align: middle;\n",
              "    }\n",
              "\n",
              "    .dataframe tbody tr th {\n",
              "        vertical-align: top;\n",
              "    }\n",
              "\n",
              "    .dataframe thead th {\n",
              "        text-align: right;\n",
              "    }\n",
              "</style>\n",
              "<table border=\"1\" class=\"dataframe\">\n",
              "  <thead>\n",
              "    <tr style=\"text-align: right;\">\n",
              "      <th></th>\n",
              "      <th>Model year</th>\n",
              "      <th>Engine size (L)</th>\n",
              "      <th>Cylinders</th>\n",
              "      <th>City (L/100 km)</th>\n",
              "      <th>Highway (L/100 km)</th>\n",
              "      <th>Combined (L/100 km)</th>\n",
              "      <th>Combined (mpg)</th>\n",
              "      <th>CO2 emissions (g/km)</th>\n",
              "      <th>CO2 rating</th>\n",
              "      <th>Smog rating</th>\n",
              "    </tr>\n",
              "  </thead>\n",
              "  <tbody>\n",
              "    <tr>\n",
              "      <th>count</th>\n",
              "      <td>7761.000000</td>\n",
              "      <td>7761.000000</td>\n",
              "      <td>7761.000000</td>\n",
              "      <td>7761.000000</td>\n",
              "      <td>7761.000000</td>\n",
              "      <td>7761.000000</td>\n",
              "      <td>7761.000000</td>\n",
              "      <td>7761.000000</td>\n",
              "      <td>7761.000000</td>\n",
              "      <td>7761.000000</td>\n",
              "    </tr>\n",
              "    <tr>\n",
              "      <th>mean</th>\n",
              "      <td>2020.308079</td>\n",
              "      <td>3.155676</td>\n",
              "      <td>5.645535</td>\n",
              "      <td>12.529803</td>\n",
              "      <td>9.249968</td>\n",
              "      <td>11.053344</td>\n",
              "      <td>27.114805</td>\n",
              "      <td>256.654039</td>\n",
              "      <td>4.495039</td>\n",
              "      <td>4.798093</td>\n",
              "    </tr>\n",
              "    <tr>\n",
              "      <th>std</th>\n",
              "      <td>2.259698</td>\n",
              "      <td>1.339913</td>\n",
              "      <td>1.901433</td>\n",
              "      <td>3.327348</td>\n",
              "      <td>2.147856</td>\n",
              "      <td>2.749851</td>\n",
              "      <td>6.758468</td>\n",
              "      <td>59.991636</td>\n",
              "      <td>1.506432</td>\n",
              "      <td>1.779342</td>\n",
              "    </tr>\n",
              "    <tr>\n",
              "      <th>min</th>\n",
              "      <td>2017.000000</td>\n",
              "      <td>0.900000</td>\n",
              "      <td>3.000000</td>\n",
              "      <td>4.800000</td>\n",
              "      <td>4.500000</td>\n",
              "      <td>5.000000</td>\n",
              "      <td>11.000000</td>\n",
              "      <td>114.000000</td>\n",
              "      <td>1.000000</td>\n",
              "      <td>1.000000</td>\n",
              "    </tr>\n",
              "    <tr>\n",
              "      <th>25%</th>\n",
              "      <td>2018.000000</td>\n",
              "      <td>2.000000</td>\n",
              "      <td>4.000000</td>\n",
              "      <td>10.200000</td>\n",
              "      <td>7.700000</td>\n",
              "      <td>9.100000</td>\n",
              "      <td>22.000000</td>\n",
              "      <td>213.000000</td>\n",
              "      <td>3.000000</td>\n",
              "      <td>3.000000</td>\n",
              "    </tr>\n",
              "    <tr>\n",
              "      <th>50%</th>\n",
              "      <td>2020.000000</td>\n",
              "      <td>3.000000</td>\n",
              "      <td>6.000000</td>\n",
              "      <td>12.200000</td>\n",
              "      <td>9.000000</td>\n",
              "      <td>10.700000</td>\n",
              "      <td>26.000000</td>\n",
              "      <td>253.000000</td>\n",
              "      <td>4.000000</td>\n",
              "      <td>5.000000</td>\n",
              "    </tr>\n",
              "    <tr>\n",
              "      <th>75%</th>\n",
              "      <td>2022.000000</td>\n",
              "      <td>3.700000</td>\n",
              "      <td>6.000000</td>\n",
              "      <td>14.500000</td>\n",
              "      <td>10.500000</td>\n",
              "      <td>12.700000</td>\n",
              "      <td>31.000000</td>\n",
              "      <td>295.000000</td>\n",
              "      <td>5.000000</td>\n",
              "      <td>6.000000</td>\n",
              "    </tr>\n",
              "    <tr>\n",
              "      <th>max</th>\n",
              "      <td>2024.000000</td>\n",
              "      <td>8.400000</td>\n",
              "      <td>16.000000</td>\n",
              "      <td>30.700000</td>\n",
              "      <td>20.900000</td>\n",
              "      <td>26.100000</td>\n",
              "      <td>56.000000</td>\n",
              "      <td>608.000000</td>\n",
              "      <td>10.000000</td>\n",
              "      <td>8.000000</td>\n",
              "    </tr>\n",
              "  </tbody>\n",
              "</table>\n",
              "</div>"
            ],
            "text/plain": [
              "        Model year  Engine size (L)    Cylinders  City (L/100 km)  \\\n",
              "count  7761.000000      7761.000000  7761.000000      7761.000000   \n",
              "mean   2020.308079         3.155676     5.645535        12.529803   \n",
              "std       2.259698         1.339913     1.901433         3.327348   \n",
              "min    2017.000000         0.900000     3.000000         4.800000   \n",
              "25%    2018.000000         2.000000     4.000000        10.200000   \n",
              "50%    2020.000000         3.000000     6.000000        12.200000   \n",
              "75%    2022.000000         3.700000     6.000000        14.500000   \n",
              "max    2024.000000         8.400000    16.000000        30.700000   \n",
              "\n",
              "       Highway (L/100 km)  Combined (L/100 km)  Combined (mpg)  \\\n",
              "count         7761.000000          7761.000000     7761.000000   \n",
              "mean             9.249968            11.053344       27.114805   \n",
              "std              2.147856             2.749851        6.758468   \n",
              "min              4.500000             5.000000       11.000000   \n",
              "25%              7.700000             9.100000       22.000000   \n",
              "50%              9.000000            10.700000       26.000000   \n",
              "75%             10.500000            12.700000       31.000000   \n",
              "max             20.900000            26.100000       56.000000   \n",
              "\n",
              "       CO2 emissions (g/km)   CO2 rating  Smog rating  \n",
              "count           7761.000000  7761.000000  7761.000000  \n",
              "mean             256.654039     4.495039     4.798093  \n",
              "std               59.991636     1.506432     1.779342  \n",
              "min              114.000000     1.000000     1.000000  \n",
              "25%              213.000000     3.000000     3.000000  \n",
              "50%              253.000000     4.000000     5.000000  \n",
              "75%              295.000000     5.000000     6.000000  \n",
              "max              608.000000    10.000000     8.000000  "
            ]
          },
          "execution_count": 9,
          "metadata": {},
          "output_type": "execute_result"
        }
      ],
      "source": [
        "# max model year cant be more than 2025 (current year)\n",
        "df = df[df[\"Model year\"] <= 2025]\n",
        "\n",
        "# max engine size can't be more than 28.4L\n",
        "df = df[df[\"Engine size (L)\"] <= 28.4]\n",
        "\n",
        "# max cylinders can't be more than 16\n",
        "df = df[df[\"Cylinders\"] <= 16]\n",
        "\n",
        "# the best performing car is only getting 57mpg right now\n",
        "df = df[df[\"Combined (mpg)\"] <= 57]\n",
        "\n",
        "df.describe()"
      ]
    },
    {
      "cell_type": "markdown",
      "id": "91a42523",
      "metadata": {
        "id": "91a42523"
      },
      "source": [
        "# **Data Exploration**"
      ]
    },
    {
      "cell_type": "code",
      "execution_count": 10,
      "id": "4jVzzm0Hu3np",
      "metadata": {
        "colab": {
          "base_uri": "https://localhost:8080/"
        },
        "id": "4jVzzm0Hu3np",
        "outputId": "1baa84bc-976b-4490-ed85-912ffe68925c"
      },
      "outputs": [
        {
          "name": "stdout",
          "output_type": "stream",
          "text": [
            "Number of Entries: 7761\n",
            "Number of Features: 15\n"
          ]
        }
      ],
      "source": [
        "# Number of Rows and Columns after cleaning\n",
        "row, col = df.shape\n",
        "print(\"Number of Entries:\", row)\n",
        "print(\"Number of Features:\", col)"
      ]
    },
    {
      "cell_type": "code",
      "execution_count": 11,
      "id": "spHLtratvlu-",
      "metadata": {
        "colab": {
          "base_uri": "https://localhost:8080/"
        },
        "id": "spHLtratvlu-",
        "outputId": "f817fd0d-c600-499a-d2e8-7114de1a54d8"
      },
      "outputs": [
        {
          "name": "stdout",
          "output_type": "stream",
          "text": [
            "NUMBER OF UNIQUE VALUES PER COLUMN\n",
            "Model year                 8\n",
            "Make                      41\n",
            "Model                   1745\n",
            "Vehicle class             15\n",
            "Engine size (L)           47\n",
            "Cylinders                  8\n",
            "Transmission              26\n",
            "Fuel type                  4\n",
            "City (L/100 km)          197\n",
            "Highway (L/100 km)       129\n",
            "Combined (L/100 km)      163\n",
            "Combined (mpg)            45\n",
            "CO2 emissions (g/km)     311\n",
            "CO2 rating                10\n",
            "Smog rating                7\n",
            "dtype: int64\n"
          ]
        }
      ],
      "source": [
        "# NUMBER OF UNIQUE VALUES PER COLUMN\n",
        "print(\"NUMBER OF UNIQUE VALUES PER COLUMN\")\n",
        "print(df.nunique())"
      ]
    },
    {
      "cell_type": "code",
      "execution_count": 12,
      "id": "j0_5LYWlv76f",
      "metadata": {
        "colab": {
          "base_uri": "https://localhost:8080/",
          "height": 901
        },
        "id": "j0_5LYWlv76f",
        "outputId": "df4f4d37-5b5c-489d-e5dc-80f4ad88fd58"
      },
      "outputs": [
        {
          "data": {
            "text/plain": [
              "array([[<Axes: title={'center': 'Model year'}>,\n",
              "        <Axes: title={'center': 'Engine size (L)'}>,\n",
              "        <Axes: title={'center': 'Cylinders'}>],\n",
              "       [<Axes: title={'center': 'City (L/100 km)'}>,\n",
              "        <Axes: title={'center': 'Highway (L/100 km)'}>,\n",
              "        <Axes: title={'center': 'Combined (L/100 km)'}>],\n",
              "       [<Axes: title={'center': 'Combined (mpg)'}>,\n",
              "        <Axes: title={'center': 'CO2 emissions (g/km)'}>,\n",
              "        <Axes: title={'center': 'CO2 rating'}>],\n",
              "       [<Axes: title={'center': 'Smog rating'}>, <Axes: >, <Axes: >]],\n",
              "      dtype=object)"
            ]
          },
          "execution_count": 12,
          "metadata": {},
          "output_type": "execute_result"
        },
        {
          "data": {
            "image/png": "[encoded data removed]",
            "text/plain": [
              "<Figure size 1000x800 with 12 Axes>"
            ]
          },
          "metadata": {},
          "output_type": "display_data"
        }
      ],
      "source": [
        "# Histogram for all numeric columns\n",
        "df.hist(figsize=(10,8))"
      ]
    },
    {
      "cell_type": "code",
      "execution_count": 13,
      "id": "3JLOKuyPxPMc",
      "metadata": {
        "colab": {
          "base_uri": "https://localhost:8080/",
          "height": 586
        },
        "id": "3JLOKuyPxPMc",
        "outputId": "b2d202e7-c87e-4465-cbc1-3ab704ccd6a4"
      },
      "outputs": [
        {
          "data": {
            "text/plain": [
              "Vehicle class\n",
              "Sport utility vehicle: Small       19.417601\n",
              "Sport utility vehicle: Standard    13.232831\n",
              "Mid-size                           12.859168\n",
              "Pickup truck: Standard              9.895632\n",
              "Compact                             9.792553\n",
              "Subcompact                          8.787527\n",
              "Full-size                           7.524804\n",
              "Two-seater                          6.274965\n",
              "Minicompact                         4.496843\n",
              "Station wagon: Small                2.525448\n",
              "Pickup truck: Small                 2.216209\n",
              "Special purpose vehicle             0.992140\n",
              "Minivan                             0.876176\n",
              "Station wagon: Mid-size             0.863291\n",
              "Van: Passenger                      0.244814\n",
              "Name: proportion, dtype: float64"
            ]
          },
          "execution_count": 13,
          "metadata": {},
          "output_type": "execute_result"
        }
      ],
      "source": [
        "# Proportion of values in Vehicle Class\n",
        "df['Vehicle class'].value_counts(normalize=True) * 100"
      ]
    },
    {
      "cell_type": "code",
      "execution_count": 14,
      "id": "LJ0vk9n3xpSR",
      "metadata": {
        "colab": {
          "base_uri": "https://localhost:8080/",
          "height": 900
        },
        "id": "LJ0vk9n3xpSR",
        "outputId": "7d306a28-8e09-4ed4-d448-347479c3f33e"
      },
      "outputs": [
        {
          "data": {
            "text/plain": [
              "Model\n",
              "Sierra 4WD             38\n",
              "Silverado 4WD          38\n",
              "Mustang                36\n",
              "Silverado              30\n",
              "Sierra                 30\n",
              "Camaro                 30\n",
              "F-150 FFV              28\n",
              "Civic Sedan            26\n",
              "Civic Hatchback        26\n",
              "Mustang Convertible    25\n",
              "Elantra                24\n",
              "F-150 4X4              23\n",
              "Edge AWD               23\n",
              "Canyon                 23\n",
              "Colorado               23\n",
              "F-150                  22\n",
              "Corolla                21\n",
              "Challenger             21\n",
              "Tacoma 4WD             20\n",
              "Canyon 4WD             20\n",
              "Sierra FFV             20\n",
              "Silverado FFV          20\n",
              "Sierra 4WD FFV         20\n",
              "Explorer AWD           20\n",
              "Colorado 4WD           20\n",
              "Name: count, dtype: int64"
            ]
          },
          "execution_count": 14,
          "metadata": {},
          "output_type": "execute_result"
        }
      ],
      "source": [
        "# Count of values in Model\n",
        "df['Model'].value_counts().head(25)"
      ]
    },
    {
      "cell_type": "code",
      "execution_count": 15,
      "id": "kYLlaryLxv-n",
      "metadata": {
        "colab": {
          "base_uri": "https://localhost:8080/",
          "height": 241
        },
        "id": "kYLlaryLxv-n",
        "outputId": "9cafe27f-f319-45b4-b829-1a35ed8c4504"
      },
      "outputs": [
        {
          "data": {
            "text/plain": [
              "Fuel type\n",
              "Premium      48.666409\n",
              "Regular      46.282696\n",
              "Flex-Fuel     2.667182\n",
              "Diesel        2.383713\n",
              "Name: proportion, dtype: float64"
            ]
          },
          "execution_count": 15,
          "metadata": {},
          "output_type": "execute_result"
        }
      ],
      "source": [
        "# Proportion of values in Fuel Type\n",
        "df['Fuel type'].value_counts(normalize=True) * 100"
      ]
    },
    {
      "cell_type": "code",
      "execution_count": 16,
      "id": "8_DMo4JTx1Fr",
      "metadata": {
        "colab": {
          "base_uri": "https://localhost:8080/",
          "height": 335
        },
        "id": "8_DMo4JTx1Fr",
        "outputId": "6d34903d-41bd-4412-9993-3ac45e2debe1"
      },
      "outputs": [
        {
          "data": {
            "text/plain": [
              "Smog rating\n",
              "5    31.297513\n",
              "3    24.674655\n",
              "7    18.670274\n",
              "6    16.466950\n",
              "1     7.254220\n",
              "8     1.546193\n",
              "2     0.090195\n",
              "Name: proportion, dtype: float64"
            ]
          },
          "execution_count": 16,
          "metadata": {},
          "output_type": "execute_result"
        }
      ],
      "source": [
        "# Proportion of values in Smog Category\n",
        "df['Smog rating'].value_counts(normalize=True) * 100"
      ]
    },
    {
      "cell_type": "code",
      "execution_count": 17,
      "id": "TDRJtbVbzLCG",
      "metadata": {
        "colab": {
          "base_uri": "https://localhost:8080/",
          "height": 241
        },
        "id": "TDRJtbVbzLCG",
        "outputId": "73f01e11-4e09-4f9a-a567-b72df4027f7b"
      },
      "outputs": [
        {
          "data": {
            "text/plain": [
              "Fuel type\n",
              "Diesel       2.681081\n",
              "Flex-Fuel    4.183575\n",
              "Premium      4.339158\n",
              "Regular      5.425111\n",
              "Name: Smog rating, dtype: float64"
            ]
          },
          "execution_count": 17,
          "metadata": {},
          "output_type": "execute_result"
        }
      ],
      "source": [
        "# Average Smog rating per Fuel Type\n",
        "df.groupby('Fuel type')['Smog rating'].mean()"
      ]
    },
    {
      "cell_type": "code",
      "execution_count": 18,
      "id": "2004edab",
      "metadata": {
        "colab": {
          "base_uri": "https://localhost:8080/",
          "height": 355
        },
        "id": "2004edab",
        "outputId": "e8033ee4-b35b-4a3c-ac1a-24e5b030776e"
      },
      "outputs": [
        {
          "data": {
            "text/html": [
              "<div>\n",
              "<style scoped>\n",
              "    .dataframe tbody tr th:only-of-type {\n",
              "        vertical-align: middle;\n",
              "    }\n",
              "\n",
              "    .dataframe tbody tr th {\n",
              "        vertical-align: top;\n",
              "    }\n",
              "\n",
              "    .dataframe thead th {\n",
              "        text-align: right;\n",
              "    }\n",
              "</style>\n",
              "<table border=\"1\" class=\"dataframe\">\n",
              "  <thead>\n",
              "    <tr style=\"text-align: right;\">\n",
              "      <th></th>\n",
              "      <th>Model year</th>\n",
              "      <th>Engine size (L)</th>\n",
              "      <th>Cylinders</th>\n",
              "      <th>City (L/100 km)</th>\n",
              "      <th>Highway (L/100 km)</th>\n",
              "      <th>Combined (L/100 km)</th>\n",
              "      <th>Combined (mpg)</th>\n",
              "      <th>CO2 emissions (g/km)</th>\n",
              "      <th>CO2 rating</th>\n",
              "      <th>Smog rating</th>\n",
              "    </tr>\n",
              "  </thead>\n",
              "  <tbody>\n",
              "    <tr>\n",
              "      <th>count</th>\n",
              "      <td>7761.000000</td>\n",
              "      <td>7761.000000</td>\n",
              "      <td>7761.000000</td>\n",
              "      <td>7761.000000</td>\n",
              "      <td>7761.000000</td>\n",
              "      <td>7761.000000</td>\n",
              "      <td>7761.000000</td>\n",
              "      <td>7761.000000</td>\n",
              "      <td>7761.000000</td>\n",
              "      <td>7761.000000</td>\n",
              "    </tr>\n",
              "    <tr>\n",
              "      <th>mean</th>\n",
              "      <td>2020.308079</td>\n",
              "      <td>3.155676</td>\n",
              "      <td>5.645535</td>\n",
              "      <td>12.529803</td>\n",
              "      <td>9.249968</td>\n",
              "      <td>11.053344</td>\n",
              "      <td>27.114805</td>\n",
              "      <td>256.654039</td>\n",
              "      <td>4.495039</td>\n",
              "      <td>4.798093</td>\n",
              "    </tr>\n",
              "    <tr>\n",
              "      <th>std</th>\n",
              "      <td>2.259698</td>\n",
              "      <td>1.339913</td>\n",
              "      <td>1.901433</td>\n",
              "      <td>3.327348</td>\n",
              "      <td>2.147856</td>\n",
              "      <td>2.749851</td>\n",
              "      <td>6.758468</td>\n",
              "      <td>59.991636</td>\n",
              "      <td>1.506432</td>\n",
              "      <td>1.779342</td>\n",
              "    </tr>\n",
              "    <tr>\n",
              "      <th>min</th>\n",
              "      <td>2017.000000</td>\n",
              "      <td>0.900000</td>\n",
              "      <td>3.000000</td>\n",
              "      <td>4.800000</td>\n",
              "      <td>4.500000</td>\n",
              "      <td>5.000000</td>\n",
              "      <td>11.000000</td>\n",
              "      <td>114.000000</td>\n",
              "      <td>1.000000</td>\n",
              "      <td>1.000000</td>\n",
              "    </tr>\n",
              "    <tr>\n",
              "      <th>25%</th>\n",
              "      <td>2018.000000</td>\n",
              "      <td>2.000000</td>\n",
              "      <td>4.000000</td>\n",
              "      <td>10.200000</td>\n",
              "      <td>7.700000</td>\n",
              "      <td>9.100000</td>\n",
              "      <td>22.000000</td>\n",
              "      <td>213.000000</td>\n",
              "      <td>3.000000</td>\n",
              "      <td>3.000000</td>\n",
              "    </tr>\n",
              "    <tr>\n",
              "      <th>50%</th>\n",
              "      <td>2020.000000</td>\n",
              "      <td>3.000000</td>\n",
              "      <td>6.000000</td>\n",
              "      <td>12.200000</td>\n",
              "      <td>9.000000</td>\n",
              "      <td>10.700000</td>\n",
              "      <td>26.000000</td>\n",
              "      <td>253.000000</td>\n",
              "      <td>4.000000</td>\n",
              "      <td>5.000000</td>\n",
              "    </tr>\n",
              "    <tr>\n",
              "      <th>75%</th>\n",
              "      <td>2022.000000</td>\n",
              "      <td>3.700000</td>\n",
              "      <td>6.000000</td>\n",
              "      <td>14.500000</td>\n",
              "      <td>10.500000</td>\n",
              "      <td>12.700000</td>\n",
              "      <td>31.000000</td>\n",
              "      <td>295.000000</td>\n",
              "      <td>5.000000</td>\n",
              "      <td>6.000000</td>\n",
              "    </tr>\n",
              "    <tr>\n",
              "      <th>max</th>\n",
              "      <td>2024.000000</td>\n",
              "      <td>8.400000</td>\n",
              "      <td>16.000000</td>\n",
              "      <td>30.700000</td>\n",
              "      <td>20.900000</td>\n",
              "      <td>26.100000</td>\n",
              "      <td>56.000000</td>\n",
              "      <td>608.000000</td>\n",
              "      <td>10.000000</td>\n",
              "      <td>8.000000</td>\n",
              "    </tr>\n",
              "  </tbody>\n",
              "</table>\n",
              "</div>"
            ],
            "text/plain": [
              "        Model year  Engine size (L)    Cylinders  City (L/100 km)  \\\n",
              "count  7761.000000      7761.000000  7761.000000      7761.000000   \n",
              "mean   2020.308079         3.155676     5.645535        12.529803   \n",
              "std       2.259698         1.339913     1.901433         3.327348   \n",
              "min    2017.000000         0.900000     3.000000         4.800000   \n",
              "25%    2018.000000         2.000000     4.000000        10.200000   \n",
              "50%    2020.000000         3.000000     6.000000        12.200000   \n",
              "75%    2022.000000         3.700000     6.000000        14.500000   \n",
              "max    2024.000000         8.400000    16.000000        30.700000   \n",
              "\n",
              "       Highway (L/100 km)  Combined (L/100 km)  Combined (mpg)  \\\n",
              "count         7761.000000          7761.000000     7761.000000   \n",
              "mean             9.249968            11.053344       27.114805   \n",
              "std              2.147856             2.749851        6.758468   \n",
              "min              4.500000             5.000000       11.000000   \n",
              "25%              7.700000             9.100000       22.000000   \n",
              "50%              9.000000            10.700000       26.000000   \n",
              "75%             10.500000            12.700000       31.000000   \n",
              "max             20.900000            26.100000       56.000000   \n",
              "\n",
              "       CO2 emissions (g/km)   CO2 rating  Smog rating  \n",
              "count           7761.000000  7761.000000  7761.000000  \n",
              "mean             256.654039     4.495039     4.798093  \n",
              "std               59.991636     1.506432     1.779342  \n",
              "min              114.000000     1.000000     1.000000  \n",
              "25%              213.000000     3.000000     3.000000  \n",
              "50%              253.000000     4.000000     5.000000  \n",
              "75%              295.000000     5.000000     6.000000  \n",
              "max              608.000000    10.000000     8.000000  "
            ]
          },
          "execution_count": 18,
          "metadata": {},
          "output_type": "execute_result"
        }
      ],
      "source": [
        "df.describe()"
      ]
    },
    {
      "cell_type": "markdown",
      "id": "f5fa6ba9",
      "metadata": {
        "id": "f5fa6ba9"
      },
      "source": [
        "# **Hypothesis Testing**"
      ]
    },
    {
      "cell_type": "markdown",
      "id": "d6b819e0",
      "metadata": {
        "id": "d6b819e0"
      },
      "source": [
        "**Engine Size related to CO₂ Emissions?**\n",
        "\n",
        "Largers engines generally burn more fuel than smaller engines. However, vehicles using larger engines are on the highway more often than not so their fuel efficiency might be better (relative to the engine size) than smaller engine vehicles that spend a lot of time starting and stopping in local streets. It makes sense to test this relationship."
      ]
    },
    {
      "cell_type": "markdown",
      "id": "0aa46407",
      "metadata": {
        "id": "0aa46407"
      },
      "source": [
        "**Regression**<br>\n",
        "H0: Engine Size and CO₂ Emissions are not related<br>\n",
        "HA: Engine Size and CO₂ Emissions are related"
      ]
    },
    {
      "cell_type": "code",
      "execution_count": 19,
      "id": "72e0e520",
      "metadata": {
        "colab": {
          "base_uri": "https://localhost:8080/",
          "height": 449
        },
        "id": "72e0e520",
        "outputId": "d362789a-355c-4b64-b492-20047171ed78"
      },
      "outputs": [
        {
          "data": {
            "image/png": "[encoded data removed]",
            "text/plain": [
              "<Figure size 640x480 with 1 Axes>"
            ]
          },
          "metadata": {},
          "output_type": "display_data"
        }
      ],
      "source": [
        "# visualizing hypothesis\n",
        "plt.scatter(df[\"Engine size (L)\"], df[\"CO2 emissions (g/km)\"])\n",
        "plt.xlabel(\"Engine Size\")\n",
        "plt.ylabel(\"C02 Emissions\")\n",
        "plt.show()"
      ]
    },
    {
      "cell_type": "code",
      "execution_count": 26,
      "id": "d1313a32",
      "metadata": {
        "colab": {
          "base_uri": "https://localhost:8080/"
        },
        "id": "d1313a32",
        "outputId": "fa650994-f5a1-47ad-aad1-fce4b1c0271a"
      },
      "outputs": [
        {
          "name": "stdout",
          "output_type": "stream",
          "text": [
            "p-value: 0.0\n",
            "slope: 37.025089468384245\n"
          ]
        }
      ],
      "source": [
        "# computing p-value from regression analysis\n",
        "result = linregress(df[\"Engine size (L)\"], df[\"CO2 emissions (g/km)\"])\n",
        "print(\"p-value:\", result.pvalue)\n",
        "print(\"slope:\", result.slope)"
      ]
    },
    {
      "cell_type": "markdown",
      "id": "fdf0e117",
      "metadata": {
        "id": "fdf0e117"
      },
      "source": [
        "Engine Size & CO₂"
      ]
    },
    {
      "cell_type": "code",
      "execution_count": 21,
      "id": "723ceac3",
      "metadata": {
        "colab": {
          "base_uri": "https://localhost:8080/",
          "height": 449
        },
        "id": "723ceac3",
        "outputId": "a64c7a09-ce39-4df4-ca45-41ef4f640bad"
      },
      "outputs": [
        {
          "data": {
            "image/png": "[encoded data removed]",
            "text/plain": [
              "<Figure size 640x480 with 1 Axes>"
            ]
          },
          "metadata": {},
          "output_type": "display_data"
        }
      ],
      "source": [
        "plt.scatter(df[\"Engine size (L)\"], df[\"CO2 emissions (g/km)\"])\n",
        "plt.xlabel(\"Engine Size\")\n",
        "plt.ylabel(\"C02 Emissions\")\n",
        "plt.plot(df[\"Engine size (L)\"], result.intercept + result.slope*df[\"Engine size (L)\"], 'r', label='fitted line')\n",
        "plt.show()"
      ]
    },
    {
      "cell_type": "markdown",
      "id": "5a74a274",
      "metadata": {},
      "source": [
        "The p-value is 0.0 which means there is a 100% chance Engine Size & CO₂ emmissions are related.\n",
        "For every increase in Engine Size by 1, the CO₂ emmissions increase by about 37"
      ]
    },
    {
      "cell_type": "markdown",
      "id": "ZbWQzWHq66Hz",
      "metadata": {
        "id": "ZbWQzWHq66Hz"
      },
      "source": [
        "**Fuel Type related to CO₂ Emissions?**\n",
        "\n",
        "Different fuel types generally produce varying levels of CO₂ when burned or used to power vehicles. Gasoline engines typically emit more CO₂ than diesel per unit of fuel, while electric vehicles may produce little to none. Since fuel composition and combustion efficiency differ across types, it makes sense to test whether fuel type significantly affects CO₂ emissions."
      ]
    },
    {
      "cell_type": "markdown",
      "id": "pUiG-9eWAyGS",
      "metadata": {
        "id": "pUiG-9eWAyGS"
      },
      "source": [
        "**One-Way ANOVA**<br>\n",
        "H0: Fuel type does not affect CO2 emissions<br>\n",
        "HA: Fuel type significantly affects CO2 emissions"
      ]
    },
    {
      "cell_type": "code",
      "execution_count": 22,
      "id": "wqVYcgMHFfQ8",
      "metadata": {
        "colab": {
          "base_uri": "https://localhost:8080/"
        },
        "id": "wqVYcgMHFfQ8",
        "outputId": "b197d2f3-84e7-4fb5-9e8d-639b2d62d5e1"
      },
      "outputs": [
        {
          "name": "stdout",
          "output_type": "stream",
          "text": [
            "ANOVA Test Results:\n",
            "F-statistic = 230.819\n",
            "P-value = 0.00000\n"
          ]
        }
      ],
      "source": [
        "# Get the list of fuel types and corresponding emissions\n",
        "fuel_groups = [group['CO2 emissions (g/km)'].values\n",
        "               for name, group in df.groupby('Fuel type')]\n",
        "\n",
        "# Run ANOVA\n",
        "f_stat, p_value = f_oneway(*fuel_groups)\n",
        "print(\"ANOVA Test Results:\")\n",
        "print(f\"F-statistic = {f_stat:.3f}\")\n",
        "print(f\"P-value = {p_value:.5f}\")"
      ]
    },
    {
      "cell_type": "markdown",
      "id": "xoMGarR78iAd",
      "metadata": {
        "id": "xoMGarR78iAd"
      },
      "source": [
        "Fuel Type and CO₂ emmissions are definitely related because the p value is 0.0\n",
        "The F-statistic of 230 means the variation between the fuel types affecting CO₂ emmissions is great. \n",
        "At least 1 fuel type affects CO₂ emmissions much more/less extreme than the others."
      ]
    },
    {
      "cell_type": "markdown",
      "id": "tNNF32tc8ond",
      "metadata": {
        "id": "tNNF32tc8ond"
      },
      "source": [
        "Fuel Type and CO₂"
      ]
    },
    {
      "cell_type": "code",
      "execution_count": 23,
      "id": "FNX9JGlkdEqN",
      "metadata": {
        "colab": {
          "base_uri": "https://localhost:8080/",
          "height": 716
        },
        "id": "FNX9JGlkdEqN",
        "outputId": "692685da-6859-4728-e241-ea70c229ffd2"
      },
      "outputs": [
        {
          "name": "stderr",
          "output_type": "stream",
          "text": [
            "/var/folders/4j/bzjzr7sx5cv9skphgq447myw0000gn/T/ipykernel_85845/2492406405.py:3: FutureWarning: \n",
            "\n",
            "Passing `palette` without assigning `hue` is deprecated and will be removed in v0.14.0. Assign the `x` variable to `hue` and set `legend=False` for the same effect.\n",
            "\n",
            "  sns.boxplot(data=df, x='Fuel type', y='CO2 emissions (g/km)', palette='Set3')\n"
          ]
        },
        {
          "data": {
            "image/png": "[encoded data removed]",
            "text/plain": [
              "<Figure size 1000x600 with 1 Axes>"
            ]
          },
          "metadata": {},
          "output_type": "display_data"
        }
      ],
      "source": [
        "# Visualization\n",
        "plt.figure(figsize=(10,6))\n",
        "sns.boxplot(data=df, x='Fuel type', y='CO2 emissions (g/km)', palette='Set3')\n",
        "plt.title('CO₂ Emissions by Fuel Type')\n",
        "plt.xlabel('Fuel Type')\n",
        "plt.ylabel('CO₂ Emissions (g/km)')\n",
        "plt.xticks(rotation=45)\n",
        "plt.show()"
      ]
    },
    {
      "cell_type": "markdown",
      "id": "H1Pa-E8I9vZn",
      "metadata": {
        "id": "H1Pa-E8I9vZn"
      },
      "source": [
        "**Follow-Up Tukey Test**"
      ]
    },
    {
      "cell_type": "markdown",
      "id": "xoP9YE_69C_5",
      "metadata": {
        "id": "xoP9YE_69C_5"
      },
      "source": [
        "**Fuel Type related to Smog Rating Category?**\n",
        "\n",
        "Smog ratings indicate how much a vehicle contributes to air pollution based on emissions of harmful gases. Different fuel types produce varying levels of pollutants, which can influence these ratings. Because fuel combustion and emission control technologies differ by fuel type, it makes sense to test whether there is an association between fuel type and smog rating category."
      ]
    },
    {
      "cell_type": "markdown",
      "id": "DYxoOgLQj_SU",
      "metadata": {
        "id": "DYxoOgLQj_SU"
      },
      "source": [
        "**Chi-Square Test of Independence**<br>\n",
        "H0: There is no association between fuel type and smog rating category.<br>\n",
        "HA: There is an association between fuel type and smog rating category.<br><br>\n",
        "\n",
        "*Note -> Regarding smog ratings, vehicles that score a 10 are the **cleanest**. The categories are defined as such:<br>\n",
        "\n",
        "*   Low: 1–3\n",
        "*   Medium: 4–7\n",
        "*   High: 8–10\n",
        "\n",
        "\n",
        "\n"
      ]
    },
    {
      "cell_type": "code",
      "execution_count": 24,
      "id": "7OrT1MEomyVO",
      "metadata": {
        "colab": {
          "base_uri": "https://localhost:8080/"
        },
        "id": "7OrT1MEomyVO",
        "outputId": "38a2549c-82bf-4e9c-d12b-8cf5a25dd39a"
      },
      "outputs": [
        {
          "name": "stdout",
          "output_type": "stream",
          "text": [
            "\n",
            "Chi-square test results:\n",
            "Chi2 Statistic: 809.302\n",
            "P-value: 0.0000\n"
          ]
        }
      ],
      "source": [
        "# Creating smog rating categories\n",
        "def categorize_smog(rating):\n",
        "    if rating <= 3:\n",
        "        return \"Low\"\n",
        "    elif rating <= 7:\n",
        "        return \"Medium\"\n",
        "    else:\n",
        "        return \"High\"\n",
        "\n",
        "df[\"Smog Category\"] = df[\"Smog rating\"].apply(categorize_smog)\n",
        "\n",
        "# Build the contingency table\n",
        "contingency = pd.crosstab(df[\"Fuel type\"], df[\"Smog Category\"])\n",
        "\n",
        "# Run the Chi-Square test\n",
        "chi2, p, dof, expected = chi2_contingency(contingency)\n",
        "print(\"\\nChi-square test results:\")\n",
        "print(f\"Chi2 Statistic: {chi2:.3f}\")\n",
        "print(f\"P-value: {p:.4f}\")"
      ]
    },
    {
      "cell_type": "code",
      "execution_count": 25,
      "id": "OIwWiKRioD9b",
      "metadata": {
        "colab": {
          "base_uri": "https://localhost:8080/",
          "height": 607
        },
        "id": "OIwWiKRioD9b",
        "outputId": "fd0f3e7b-aaab-4f7d-a729-181b57700fd4"
      },
      "outputs": [
        {
          "data": {
            "image/png": "[encoded data removed]",
            "text/plain": [
              "<Figure size 800x600 with 2 Axes>"
            ]
          },
          "metadata": {},
          "output_type": "display_data"
        }
      ],
      "source": [
        "# Visualization\n",
        "plt.figure(figsize=(8, 6))\n",
        "sns.heatmap(contingency, annot=True, fmt='d', cmap='YlGnBu')\n",
        "plt.title(\"Fuel Type vs Smog Rating Category\")\n",
        "plt.xlabel(\"Smog Rating Category\")\n",
        "plt.ylabel(\"Fuel Type\")\n",
        "plt.tight_layout()\n",
        "plt.show()"
      ]
    },
    {
      "cell_type": "markdown",
      "id": "5addc48c",
      "metadata": {},
      "source": [
        "explain the test results"
      ]
    }
  ],
  "metadata": {
    "colab": {
      "provenance": []
    },
    "kernelspec": {
      "display_name": ".venv",
      "language": "python",
      "name": "python3"
    },
    "language_info": {
      "codemirror_mode": {
        "name": "ipython",
        "version": 3
      },
      "file_extension": ".py",
      "mimetype": "text/x-python",
      "name": "python",
      "nbconvert_exporter": "python",
      "pygments_lexer": "ipython3",
      "version": "3.13.7"
    }
  },
  "nbformat": 4,
  "nbformat_minor": 5
}
